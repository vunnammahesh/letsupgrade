{
  "nbformat": 4,
  "nbformat_minor": 0,
  "metadata": {
    "colab": {
      "name": "Untitled1.ipynb",
      "provenance": [],
      "authorship_tag": "ABX9TyOD81P0CMq+yYf0SIK5yY0M",
      "include_colab_link": true
    },
    "kernelspec": {
      "name": "python3",
      "display_name": "Python 3"
    }
  },
  "cells": [
    {
      "cell_type": "markdown",
      "metadata": {
        "id": "view-in-github",
        "colab_type": "text"
      },
      "source": [
        "<a href=\"https://colab.research.google.com/github/vunnammahesh/letsupgrade/blob/main/day-3%20assignment.ipynb\" target=\"_parent\"><img src=\"https://colab.research.google.com/assets/colab-badge.svg\" alt=\"Open In Colab\"/></a>"
      ]
    },
    {
      "cell_type": "markdown",
      "metadata": {
        "id": "jpOQTiaWyDG1"
      },
      "source": [
        "# Using if elif and else in python\r\n",
        "\r\n",
        "#using input function to take input from user."
      ]
    },
    {
      "cell_type": "code",
      "metadata": {
        "colab": {
          "base_uri": "https://localhost:8080/"
        },
        "id": "HT6OiRrxvYBJ",
        "outputId": "fd83005b-6cee-4557-92c5-2ee8ccbc0e8b"
      },
      "source": [
        "altitude=input(\"Enter the altitude :\")\r\n",
        "altitude=int(altitude)\r\n",
        "if altitude < 1000 :\r\n",
        "  print(\"Safe to land.\")\r\n",
        "elif altitude > 1000 and altitude < 5000 :\r\n",
        "  print(\"Bring down to 1000.\")\r\n",
        "else :\r\n",
        "  print(\"Turn Around.\")"
      ],
      "execution_count": 11,
      "outputs": [
        {
          "output_type": "stream",
          "text": [
            "Enter the altitude :2324\n",
            "Bring down to 1000.\n"
          ],
          "name": "stdout"
        }
      ]
    },
    {
      "cell_type": "markdown",
      "metadata": {
        "id": "iIU-WAyrvhBI"
      },
      "source": [
        ""
      ]
    }
  ]
}