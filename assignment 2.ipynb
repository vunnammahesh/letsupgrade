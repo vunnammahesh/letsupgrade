{
  "nbformat": 4,
  "nbformat_minor": 0,
  "metadata": {
    "colab": {
      "name": "Untitled0.ipynb",
      "provenance": [],
      "authorship_tag": "ABX9TyN9QeXnyt81tTYlxjJstqiN",
      "include_colab_link": true
    },
    "kernelspec": {
      "name": "python3",
      "display_name": "Python 3"
    }
  },
  "cells": [
    {
      "cell_type": "markdown",
      "metadata": {
        "id": "view-in-github",
        "colab_type": "text"
      },
      "source": [
        "<a href=\"https://colab.research.google.com/github/vunnammahesh/letsupgrade/blob/main/assignment%202.ipynb\" target=\"_parent\"><img src=\"https://colab.research.google.com/assets/colab-badge.svg\" alt=\"Open In Colab\"/></a>"
      ]
    },
    {
      "cell_type": "markdown",
      "metadata": {
        "id": "32sPSFQu2Afk"
      },
      "source": [
        "# List methods "
      ]
    },
    {
      "cell_type": "code",
      "metadata": {
        "id": "XA5fsurN2N0r"
      },
      "source": [
        "lst=[1,2,3,[1,2,1,1,4],\"hai\"]"
      ],
      "execution_count": 22,
      "outputs": []
    },
    {
      "cell_type": "code",
      "metadata": {
        "colab": {
          "base_uri": "https://localhost:8080/"
        },
        "id": "eYJ7qD5u2W57",
        "outputId": "26b47a83-ff40-4341-eac6-89572efbd9ff"
      },
      "source": [
        "lst"
      ],
      "execution_count": 23,
      "outputs": [
        {
          "output_type": "execute_result",
          "data": {
            "text/plain": [
              "[1, 2, 3, [1, 2, 1, 1, 4], 'hai']"
            ]
          },
          "metadata": {
            "tags": []
          },
          "execution_count": 23
        }
      ]
    },
    {
      "cell_type": "code",
      "metadata": {
        "id": "faY360Xh2dic"
      },
      "source": [
        "lst.append(\"added\")"
      ],
      "execution_count": 24,
      "outputs": []
    },
    {
      "cell_type": "code",
      "metadata": {
        "colab": {
          "base_uri": "https://localhost:8080/"
        },
        "id": "NrZ5ymWG2oBB",
        "outputId": "af10cb9a-dc8f-4f1b-b827-405e6a938d6e"
      },
      "source": [
        "lst"
      ],
      "execution_count": 25,
      "outputs": [
        {
          "output_type": "execute_result",
          "data": {
            "text/plain": [
              "[1, 2, 3, [1, 2, 1, 1, 4], 'hai', 'added']"
            ]
          },
          "metadata": {
            "tags": []
          },
          "execution_count": 25
        }
      ]
    },
    {
      "cell_type": "code",
      "metadata": {
        "id": "mNdofSEs2rs0"
      },
      "source": [
        "lst1=lst.copy()"
      ],
      "execution_count": 30,
      "outputs": []
    },
    {
      "cell_type": "code",
      "metadata": {
        "colab": {
          "base_uri": "https://localhost:8080/"
        },
        "id": "YeXI6Tvr3h5J",
        "outputId": "82c662df-dc3d-4c04-d6c2-ea2b47a6f14e"
      },
      "source": [
        "lst1"
      ],
      "execution_count": 31,
      "outputs": [
        {
          "output_type": "execute_result",
          "data": {
            "text/plain": [
              "[1, 2, 3, [1, 2, 1, 1, 4], 'hai', 'added']"
            ]
          },
          "metadata": {
            "tags": []
          },
          "execution_count": 31
        }
      ]
    },
    {
      "cell_type": "code",
      "metadata": {
        "colab": {
          "base_uri": "https://localhost:8080/"
        },
        "id": "y5zWj3-a21j8",
        "outputId": "c55cf243-b15f-4e89-a11c-e4843e058afa"
      },
      "source": [
        "lst[3].count(1)"
      ],
      "execution_count": 29,
      "outputs": [
        {
          "output_type": "execute_result",
          "data": {
            "text/plain": [
              "3"
            ]
          },
          "metadata": {
            "tags": []
          },
          "execution_count": 29
        }
      ]
    },
    {
      "cell_type": "code",
      "metadata": {
        "id": "KAI-q3PC3t1i"
      },
      "source": [
        "lst.insert(2,222)"
      ],
      "execution_count": 33,
      "outputs": []
    },
    {
      "cell_type": "code",
      "metadata": {
        "colab": {
          "base_uri": "https://localhost:8080/"
        },
        "id": "qIeaiuGX47Gy",
        "outputId": "df2535c7-8b9c-419f-f540-b0977620e452"
      },
      "source": [
        "lst"
      ],
      "execution_count": 34,
      "outputs": [
        {
          "output_type": "execute_result",
          "data": {
            "text/plain": [
              "[1, 2, 222, 3, [1, 2, 1, 1, 4], 'hai', 'added']"
            ]
          },
          "metadata": {
            "tags": []
          },
          "execution_count": 34
        }
      ]
    },
    {
      "cell_type": "code",
      "metadata": {
        "colab": {
          "base_uri": "https://localhost:8080/"
        },
        "id": "hP0J0oSn4-Gd",
        "outputId": "bd33fd39-00c8-4dee-e6d1-5d0e629d8c44"
      },
      "source": [
        "lst.index(2)"
      ],
      "execution_count": 35,
      "outputs": [
        {
          "output_type": "execute_result",
          "data": {
            "text/plain": [
              "1"
            ]
          },
          "metadata": {
            "tags": []
          },
          "execution_count": 35
        }
      ]
    },
    {
      "cell_type": "code",
      "metadata": {
        "colab": {
          "base_uri": "https://localhost:8080/"
        },
        "id": "nqjuDRoK5Hna",
        "outputId": "6625b6bb-6133-49e1-9189-896e1825617d"
      },
      "source": [
        "lst.index(222)"
      ],
      "execution_count": 39,
      "outputs": [
        {
          "output_type": "execute_result",
          "data": {
            "text/plain": [
              "2"
            ]
          },
          "metadata": {
            "tags": []
          },
          "execution_count": 39
        }
      ]
    },
    {
      "cell_type": "code",
      "metadata": {
        "id": "hOOu2y7A5bVg"
      },
      "source": [
        "lst.remove(\"hai\")"
      ],
      "execution_count": 40,
      "outputs": []
    },
    {
      "cell_type": "code",
      "metadata": {
        "colab": {
          "base_uri": "https://localhost:8080/"
        },
        "id": "EF39pY_J5j2n",
        "outputId": "298192b6-f8af-40d9-e231-cf4702e0b289"
      },
      "source": [
        "lst"
      ],
      "execution_count": 41,
      "outputs": [
        {
          "output_type": "execute_result",
          "data": {
            "text/plain": [
              "[1, 2, 222, 3, [1, 2, 1, 1, 4], 'added']"
            ]
          },
          "metadata": {
            "tags": []
          },
          "execution_count": 41
        }
      ]
    },
    {
      "cell_type": "markdown",
      "metadata": {
        "id": "zfuF8jH48ltb"
      },
      "source": [
        "# Dictionary methods"
      ]
    },
    {
      "cell_type": "code",
      "metadata": {
        "id": "xPESXRwt8w4d"
      },
      "source": [
        "dic={\"name\":\"Mahesh\",\"age\":\"21\",\"gender\":\"Male\"}"
      ],
      "execution_count": 42,
      "outputs": []
    },
    {
      "cell_type": "code",
      "metadata": {
        "colab": {
          "base_uri": "https://localhost:8080/"
        },
        "id": "Xv-fV5vG9Kz_",
        "outputId": "64613590-ba64-4439-ee4b-2db9719b29a5"
      },
      "source": [
        "dic"
      ],
      "execution_count": 44,
      "outputs": [
        {
          "output_type": "execute_result",
          "data": {
            "text/plain": [
              "{'age': '21', 'gender': 'Male', 'name': 'Mahesh'}"
            ]
          },
          "metadata": {
            "tags": []
          },
          "execution_count": 44
        }
      ]
    },
    {
      "cell_type": "code",
      "metadata": {
        "colab": {
          "base_uri": "https://localhost:8080/"
        },
        "id": "SsUoL1aj9OSY",
        "outputId": "6938f190-9508-4863-8fb4-04d0808bd59d"
      },
      "source": [
        "dic.keys()"
      ],
      "execution_count": 46,
      "outputs": [
        {
          "output_type": "execute_result",
          "data": {
            "text/plain": [
              "dict_keys(['name', 'age', 'gender'])"
            ]
          },
          "metadata": {
            "tags": []
          },
          "execution_count": 46
        }
      ]
    },
    {
      "cell_type": "code",
      "metadata": {
        "colab": {
          "base_uri": "https://localhost:8080/"
        },
        "id": "yf7efpTf9Vei",
        "outputId": "002141a1-9a8d-4286-cc4e-cd1ae663524a"
      },
      "source": [
        "dic.values()"
      ],
      "execution_count": 47,
      "outputs": [
        {
          "output_type": "execute_result",
          "data": {
            "text/plain": [
              "dict_values(['Mahesh', '21', 'Male'])"
            ]
          },
          "metadata": {
            "tags": []
          },
          "execution_count": 47
        }
      ]
    },
    {
      "cell_type": "code",
      "metadata": {
        "colab": {
          "base_uri": "https://localhost:8080/"
        },
        "id": "v0cqEDgG9ZVF",
        "outputId": "dfe8c44a-1add-4c68-fb29-c7361144628e"
      },
      "source": [
        "dic.items()"
      ],
      "execution_count": 48,
      "outputs": [
        {
          "output_type": "execute_result",
          "data": {
            "text/plain": [
              "dict_items([('name', 'Mahesh'), ('age', '21'), ('gender', 'Male')])"
            ]
          },
          "metadata": {
            "tags": []
          },
          "execution_count": 48
        }
      ]
    },
    {
      "cell_type": "code",
      "metadata": {
        "id": "dhwjmmq69ga-"
      },
      "source": [
        "dic.update(dob=53533)"
      ],
      "execution_count": 55,
      "outputs": []
    },
    {
      "cell_type": "code",
      "metadata": {
        "colab": {
          "base_uri": "https://localhost:8080/"
        },
        "id": "sfH6FYC2-vhk",
        "outputId": "a08e4d8f-a90f-4ff2-d395-4be0b2766a86"
      },
      "source": [
        "dic"
      ],
      "execution_count": 56,
      "outputs": [
        {
          "output_type": "execute_result",
          "data": {
            "text/plain": [
              "{'age': '21', 'dob': 53533, 'gender': 'Male', 'name': 'Mahesh'}"
            ]
          },
          "metadata": {
            "tags": []
          },
          "execution_count": 56
        }
      ]
    },
    {
      "cell_type": "code",
      "metadata": {
        "colab": {
          "base_uri": "https://localhost:8080/",
          "height": 35
        },
        "id": "F0gmOLGm-05r",
        "outputId": "b197d665-506a-423f-b5a8-de17b7786ce9"
      },
      "source": [
        "dic.get(\"name\")"
      ],
      "execution_count": 58,
      "outputs": [
        {
          "output_type": "execute_result",
          "data": {
            "application/vnd.google.colaboratory.intrinsic+json": {
              "type": "string"
            },
            "text/plain": [
              "'Mahesh'"
            ]
          },
          "metadata": {
            "tags": []
          },
          "execution_count": 58
        }
      ]
    },
    {
      "cell_type": "code",
      "metadata": {
        "colab": {
          "base_uri": "https://localhost:8080/"
        },
        "id": "SPixM0MH-99U",
        "outputId": "44d66208-5808-42d9-c2d9-6ae94b5a6d9e"
      },
      "source": [
        "dic.get(\"dob\")"
      ],
      "execution_count": 59,
      "outputs": [
        {
          "output_type": "execute_result",
          "data": {
            "text/plain": [
              "53533"
            ]
          },
          "metadata": {
            "tags": []
          },
          "execution_count": 59
        }
      ]
    },
    {
      "cell_type": "code",
      "metadata": {
        "colab": {
          "base_uri": "https://localhost:8080/"
        },
        "id": "pDax8_X6_DWr",
        "outputId": "eaa0f487-c2f6-4ee8-8ae3-513f29b0d7bd"
      },
      "source": [
        "dic.popitem()"
      ],
      "execution_count": 62,
      "outputs": [
        {
          "output_type": "execute_result",
          "data": {
            "text/plain": [
              "('dob', 53533)"
            ]
          },
          "metadata": {
            "tags": []
          },
          "execution_count": 62
        }
      ]
    },
    {
      "cell_type": "code",
      "metadata": {
        "colab": {
          "base_uri": "https://localhost:8080/"
        },
        "id": "BYEnb2Q3_VW2",
        "outputId": "3ff05c11-737a-495a-b16f-4b2d02773559"
      },
      "source": [
        "dic.popitem()"
      ],
      "execution_count": 63,
      "outputs": [
        {
          "output_type": "execute_result",
          "data": {
            "text/plain": [
              "('gender', 'Male')"
            ]
          },
          "metadata": {
            "tags": []
          },
          "execution_count": 63
        }
      ]
    },
    {
      "cell_type": "code",
      "metadata": {
        "colab": {
          "base_uri": "https://localhost:8080/"
        },
        "id": "qvm8VjxK_Zpt",
        "outputId": "85a67203-cdf0-401c-f79b-d2bd4e44be19"
      },
      "source": [
        "dic\r\n"
      ],
      "execution_count": 64,
      "outputs": [
        {
          "output_type": "execute_result",
          "data": {
            "text/plain": [
              "{'age': '21', 'name': 'Mahesh'}"
            ]
          },
          "metadata": {
            "tags": []
          },
          "execution_count": 64
        }
      ]
    },
    {
      "cell_type": "code",
      "metadata": {
        "id": "zj65rv2B_gnS"
      },
      "source": [
        "dic."
      ],
      "execution_count": null,
      "outputs": []
    }
  ]
}